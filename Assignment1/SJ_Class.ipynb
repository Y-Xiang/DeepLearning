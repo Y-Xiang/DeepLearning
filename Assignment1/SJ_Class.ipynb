{
 "cells": [
  {
   "cell_type": "code",
   "execution_count": 1,
   "metadata": {},
   "outputs": [
    {
     "name": "stderr",
     "output_type": "stream",
     "text": [
      "2024-11-10 11:43:38.508471: I tensorflow/core/util/port.cc:153] oneDNN custom operations are on. You may see slightly different numerical results due to floating-point round-off errors from different computation orders. To turn them off, set the environment variable `TF_ENABLE_ONEDNN_OPTS=0`.\n",
      "2024-11-10 11:43:38.523010: E external/local_xla/xla/stream_executor/cuda/cuda_fft.cc:477] Unable to register cuFFT factory: Attempting to register factory for plugin cuFFT when one has already been registered\n",
      "WARNING: All log messages before absl::InitializeLog() is called are written to STDERR\n",
      "E0000 00:00:1731235418.531202 1263768 cuda_dnn.cc:8310] Unable to register cuDNN factory: Attempting to register factory for plugin cuDNN when one has already been registered\n",
      "E0000 00:00:1731235418.533666 1263768 cuda_blas.cc:1418] Unable to register cuBLAS factory: Attempting to register factory for plugin cuBLAS when one has already been registered\n",
      "2024-11-10 11:43:38.542581: I tensorflow/core/platform/cpu_feature_guard.cc:210] This TensorFlow binary is optimized to use available CPU instructions in performance-critical operations.\n",
      "To enable the following instructions: AVX2 AVX_VNNI FMA, in other operations, rebuild TensorFlow with the appropriate compiler flags.\n"
     ]
    },
    {
     "name": "stdout",
     "output_type": "stream",
     "text": [
      "[PhysicalDevice(name='/physical_device:GPU:0', device_type='GPU')]\n"
     ]
    }
   ],
   "source": [
    "from sklearn.model_selection import train_test_split\n",
    "import numpy as np\n",
    "from tensorflow.keras.utils import to_categorical\n",
    "from tensorflow.keras.models import Sequential\n",
    "#from keras.preprocessing import sequence\n",
    "from keras.models import Sequential\n",
    "from keras.layers import Dense, Dropout, Activation\n",
    "#from keras.layers import Embedding\n",
    "import tensorflow as tf\n",
    "from tensorflow.keras.layers import Conv2D, MaxPooling2D, Flatten,Rescaling,BatchNormalization\n",
    "from sklearn.preprocessing import LabelEncoder\n",
    "from tensorflow.keras.optimizers import Adam\n",
    "from tensorflow.keras.models import Model\n",
    "from tensorflow.keras.layers import Input\n",
    "import matplotlib.pyplot as plt\n",
    "from tensorflow.keras import regularizers\n",
    "from tensorflow.keras.regularizers import l2\n",
    "from tensorflow.keras.callbacks import EarlyStopping\n",
    "seed_value = 42\n",
    "np.random.seed(seed_value)\n",
    "tf.random.set_seed(seed_value)\n",
    "print(tf.config.list_physical_devices('GPU'))\n",
    "from keras import backend as K"
   ]
  },
  {
   "cell_type": "code",
   "execution_count": 7,
   "metadata": {},
   "outputs": [],
   "source": [
    "def calculate_angle(vec1, vec2):\n",
    "    dot_product = np.sum(vec1 * vec2, axis=1)\n",
    "    mag1 = np.linalg.norm(vec1, axis=1)\n",
    "    mag2 = np.linalg.norm(vec2, axis=1)\n",
    "    cos_theta = dot_product / (mag1 * mag2)\n",
    "    angle = np.arccos(np.clip(cos_theta, -1.0, 1.0))  # Clip to avoid domain errors\n",
    "    return angle\n",
    "def single_angle_trans(clk_time):\n",
    "    time_rad = clk_time[:,0]/12*2*np.pi + clk_time[:,1]/60*np.pi/6\n",
    "    time_per = np.array(np.round([np.cos(time_rad),\n",
    "                                  np.sin(time_rad)],5)).T\n",
    "    return time_per\n",
    "def common_sense_err2(test_y,pred_y):\n",
    "    sa1 = single_angle_trans(pred_y)\n",
    "    sa2 = single_angle_trans(test_y)\n",
    "    sa_diff = calculate_angle(sa1,sa2)\n",
    "    hr_diff = sa_diff//(np.pi/6)\n",
    "    min_diff = np.round((sa_diff%(np.pi/6)*6*60/np.pi))\n",
    "    return np.array([hr_diff,min_diff]).T\n"
   ]
  },
  {
   "cell_type": "code",
   "execution_count": 2,
   "metadata": {},
   "outputs": [
    {
     "name": "stdout",
     "output_type": "stream",
     "text": [
      "[[ 0  0]\n",
      " [ 0  0]\n",
      " [ 0  0]\n",
      " ...\n",
      " [11 59]\n",
      " [11 59]\n",
      " [11 59]]\n"
     ]
    }
   ],
   "source": [
    "images = np.load('s_images.npy')  # Shape (18000, 75, 75)\n",
    "labels = np.load('s_labels.npy')  #shape (18000, 2)\n",
    "print(labels)\n",
    "def time_to_category(hour, minute):\n",
    "    total_minutes = hour * 60 + minute\n",
    "    return total_minutes // 30\n",
    "\n",
    "def function_category(hour, minute,b):\n",
    "    total_minutes = hour * 60 + minute\n",
    "    return total_minutes // b\n",
    "\n",
    "batch_size = 32\n",
    "epochs = 50\n",
    "reduce_lr = tf.keras.callbacks.ReduceLROnPlateau(monitor='val_loss', factor=0.75, patience=2, min_lr=1e-6, verbose=1)\n",
    "early_stopping = EarlyStopping(monitor='val_loss', patience=5, restore_best_weights=True)"
   ]
  },
  {
   "cell_type": "code",
   "execution_count": 3,
   "metadata": {},
   "outputs": [
    {
     "name": "stdout",
     "output_type": "stream",
     "text": [
      "[170 604 618 ... 198  59 557]\n"
     ]
    }
   ],
   "source": [
    "X_train, X_temp, y_train, y_temp = train_test_split(images, labels, test_size=0.2, random_state=42)\n",
    "X_val, X_test, y_val, y_test = train_test_split(X_temp, y_temp, test_size=0.5, random_state=42) \n",
    "\n",
    "tru_y = y_test\n",
    "\n",
    "y_train = np.array([function_category(h, m,1) for h, m in y_train])\n",
    "y_test = np.array([function_category(h, m,1) for h, m in y_test])\n",
    "y_val = np.array([function_category(h, m,1) for h, m in y_val])\n",
    "print(y_test)\n",
    "# Convert labels to categorical format\n",
    "y_train = tf.keras.utils.to_categorical(y_train, num_classes=720)\n",
    "y_val = tf.keras.utils.to_categorical(y_val, num_classes=720)\n",
    "y_test = tf.keras.utils.to_categorical(y_test, num_classes=720)"
   ]
  },
  {
   "cell_type": "code",
   "execution_count": 4,
   "metadata": {},
   "outputs": [
    {
     "name": "stderr",
     "output_type": "stream",
     "text": [
      "/vol/home/s4147510/miniconda3/envs/IDL/lib/python3.12/site-packages/keras/src/layers/preprocessing/tf_data_layer.py:19: UserWarning: Do not pass an `input_shape`/`input_dim` argument to a layer. When using Sequential models, prefer using an `Input(shape)` object as the first layer in the model instead.\n",
      "  super().__init__(**kwargs)\n",
      "I0000 00:00:1731235440.526436 1263768 gpu_device.cc:2022] Created device /job:localhost/replica:0/task:0/device:GPU:0 with 3642 MB memory:  -> device: 0, name: NVIDIA GeForce RTX 4060, pci bus id: 0000:01:00.0, compute capability: 8.9\n"
     ]
    },
    {
     "name": "stdout",
     "output_type": "stream",
     "text": [
      "Epoch 1/50\n"
     ]
    },
    {
     "name": "stderr",
     "output_type": "stream",
     "text": [
      "WARNING: All log messages before absl::InitializeLog() is called are written to STDERR\n",
      "I0000 00:00:1731235441.951861 1263901 service.cc:148] XLA service 0x7fe008014010 initialized for platform CUDA (this does not guarantee that XLA will be used). Devices:\n",
      "I0000 00:00:1731235441.951884 1263901 service.cc:156]   StreamExecutor device (0): NVIDIA GeForce RTX 4060, Compute Capability 8.9\n",
      "2024-11-10 11:44:01.979329: I tensorflow/compiler/mlir/tensorflow/utils/dump_mlir_util.cc:268] disabling MLIR crash reproducer, set env var `MLIR_CRASH_REPRODUCER_DIRECTORY` to enable.\n",
      "I0000 00:00:1731235442.096986 1263901 cuda_dnn.cc:529] Loaded cuDNN version 90300\n",
      "2024-11-10 11:44:02.193210: W external/local_xla/xla/service/gpu/nvptx_compiler.cc:930] The NVIDIA driver's CUDA version is 12.2 which is older than the PTX compiler version 12.5.82. Because the driver is older than the PTX compiler version, XLA is disabling parallel compilation, which may slow down compilation. You should update your NVIDIA driver or use the NVIDIA-provided CUDA forward compatibility packages.\n",
      "2024-11-10 11:44:02.511434: I external/local_xla/xla/stream_executor/cuda/cuda_asm_compiler.cc:397] ptxas warning : Registers are spilled to local memory in function 'gemm_fusion_dot_1561', 88 bytes spill stores, 88 bytes spill loads\n",
      "\n",
      "2024-11-10 11:44:02.673764: I external/local_xla/xla/stream_executor/cuda/cuda_asm_compiler.cc:397] ptxas warning : Registers are spilled to local memory in function 'gemm_fusion_dot_1561', 316 bytes spill stores, 316 bytes spill loads\n",
      "\n"
     ]
    },
    {
     "name": "stdout",
     "output_type": "stream",
     "text": [
      "\u001b[1m 19/450\u001b[0m \u001b[37m━━━━━━━━━━━━━━━━━━━━\u001b[0m \u001b[1m3s\u001b[0m 8ms/step - accuracy: 0.0035 - loss: 9.9798   "
     ]
    },
    {
     "name": "stderr",
     "output_type": "stream",
     "text": [
      "I0000 00:00:1731235444.656566 1263901 device_compiler.h:188] Compiled cluster using XLA!  This line is logged at most once for the lifetime of the process.\n"
     ]
    },
    {
     "name": "stdout",
     "output_type": "stream",
     "text": [
      "\u001b[1m450/450\u001b[0m \u001b[32m━━━━━━━━━━━━━━━━━━━━\u001b[0m\u001b[37m\u001b[0m \u001b[1m9s\u001b[0m 12ms/step - accuracy: 0.0013 - loss: 9.4791 - val_accuracy: 0.0011 - val_loss: 8.2721 - learning_rate: 1.0000e-04\n",
      "Epoch 2/50\n",
      "\u001b[1m450/450\u001b[0m \u001b[32m━━━━━━━━━━━━━━━━━━━━\u001b[0m\u001b[37m\u001b[0m \u001b[1m4s\u001b[0m 8ms/step - accuracy: 0.0013 - loss: 7.9901 - val_accuracy: 0.0022 - val_loss: 7.3921 - learning_rate: 1.0000e-04\n",
      "Epoch 3/50\n",
      "\u001b[1m450/450\u001b[0m \u001b[32m━━━━━━━━━━━━━━━━━━━━\u001b[0m\u001b[37m\u001b[0m \u001b[1m4s\u001b[0m 8ms/step - accuracy: 0.0021 - loss: 7.2612 - val_accuracy: 0.0011 - val_loss: 7.0055 - learning_rate: 1.0000e-04\n",
      "Epoch 4/50\n",
      "\u001b[1m450/450\u001b[0m \u001b[32m━━━━━━━━━━━━━━━━━━━━\u001b[0m\u001b[37m\u001b[0m \u001b[1m4s\u001b[0m 8ms/step - accuracy: 0.0021 - loss: 6.9295 - val_accuracy: 0.0000e+00 - val_loss: 6.8375 - learning_rate: 1.0000e-04\n",
      "Epoch 5/50\n",
      "\u001b[1m450/450\u001b[0m \u001b[32m━━━━━━━━━━━━━━━━━━━━\u001b[0m\u001b[37m\u001b[0m \u001b[1m4s\u001b[0m 8ms/step - accuracy: 0.0026 - loss: 6.7693 - val_accuracy: 0.0011 - val_loss: 6.7595 - learning_rate: 1.0000e-04\n",
      "Epoch 6/50\n",
      "\u001b[1m450/450\u001b[0m \u001b[32m━━━━━━━━━━━━━━━━━━━━\u001b[0m\u001b[37m\u001b[0m \u001b[1m4s\u001b[0m 8ms/step - accuracy: 0.0033 - loss: 6.6871 - val_accuracy: 5.5556e-04 - val_loss: 6.7453 - learning_rate: 1.0000e-04\n",
      "Epoch 7/50\n",
      "\u001b[1m450/450\u001b[0m \u001b[32m━━━━━━━━━━━━━━━━━━━━\u001b[0m\u001b[37m\u001b[0m \u001b[1m4s\u001b[0m 8ms/step - accuracy: 0.0033 - loss: 6.6337 - val_accuracy: 5.5556e-04 - val_loss: 6.7598 - learning_rate: 1.0000e-04\n",
      "Epoch 8/50\n",
      "\u001b[1m446/450\u001b[0m \u001b[32m━━━━━━━━━━━━━━━━━━━\u001b[0m\u001b[37m━\u001b[0m \u001b[1m0s\u001b[0m 8ms/step - accuracy: 0.0032 - loss: 6.5937\n",
      "Epoch 8: ReduceLROnPlateau reducing learning rate to 7.499999810534064e-05.\n",
      "\u001b[1m450/450\u001b[0m \u001b[32m━━━━━━━━━━━━━━━━━━━━\u001b[0m\u001b[37m\u001b[0m \u001b[1m4s\u001b[0m 8ms/step - accuracy: 0.0032 - loss: 6.5937 - val_accuracy: 0.0011 - val_loss: 6.7724 - learning_rate: 1.0000e-04\n",
      "Epoch 9/50\n",
      "\u001b[1m450/450\u001b[0m \u001b[32m━━━━━━━━━━━━━━━━━━━━\u001b[0m\u001b[37m\u001b[0m \u001b[1m4s\u001b[0m 8ms/step - accuracy: 0.0054 - loss: 6.5522 - val_accuracy: 0.0011 - val_loss: 6.7507 - learning_rate: 7.5000e-05\n",
      "Epoch 10/50\n",
      "\u001b[1m446/450\u001b[0m \u001b[32m━━━━━━━━━━━━━━━━━━━\u001b[0m\u001b[37m━\u001b[0m \u001b[1m0s\u001b[0m 8ms/step - accuracy: 0.0050 - loss: 6.5112\n",
      "Epoch 10: ReduceLROnPlateau reducing learning rate to 5.6249997214763425e-05.\n",
      "\u001b[1m450/450\u001b[0m \u001b[32m━━━━━━━━━━━━━━━━━━━━\u001b[0m\u001b[37m\u001b[0m \u001b[1m4s\u001b[0m 8ms/step - accuracy: 0.0050 - loss: 6.5113 - val_accuracy: 0.0011 - val_loss: 6.7513 - learning_rate: 7.5000e-05\n",
      "Epoch 11/50\n",
      "\u001b[1m450/450\u001b[0m \u001b[32m━━━━━━━━━━━━━━━━━━━━\u001b[0m\u001b[37m\u001b[0m \u001b[1m4s\u001b[0m 8ms/step - accuracy: 0.0062 - loss: 6.4691 - val_accuracy: 0.0017 - val_loss: 6.7487 - learning_rate: 5.6250e-05\n",
      "Epoch 12/50\n",
      "\u001b[1m446/450\u001b[0m \u001b[32m━━━━━━━━━━━━━━━━━━━\u001b[0m\u001b[37m━\u001b[0m \u001b[1m0s\u001b[0m 8ms/step - accuracy: 0.0086 - loss: 6.4146\n",
      "Epoch 12: ReduceLROnPlateau reducing learning rate to 4.218749927531462e-05.\n",
      "\u001b[1m450/450\u001b[0m \u001b[32m━━━━━━━━━━━━━━━━━━━━\u001b[0m\u001b[37m\u001b[0m \u001b[1m4s\u001b[0m 8ms/step - accuracy: 0.0086 - loss: 6.4146 - val_accuracy: 0.0022 - val_loss: 6.7885 - learning_rate: 5.6250e-05\n",
      "Epoch 13/50\n",
      "\u001b[1m450/450\u001b[0m \u001b[32m━━━━━━━━━━━━━━━━━━━━\u001b[0m\u001b[37m\u001b[0m \u001b[1m4s\u001b[0m 8ms/step - accuracy: 0.0103 - loss: 6.3516 - val_accuracy: 0.0011 - val_loss: 6.7363 - learning_rate: 4.2188e-05\n",
      "Epoch 14/50\n",
      "\u001b[1m450/450\u001b[0m \u001b[32m━━━━━━━━━━━━━━━━━━━━\u001b[0m\u001b[37m\u001b[0m \u001b[1m4s\u001b[0m 8ms/step - accuracy: 0.0087 - loss: 6.2881 - val_accuracy: 0.0022 - val_loss: 6.6681 - learning_rate: 4.2188e-05\n",
      "Epoch 15/50\n",
      "\u001b[1m450/450\u001b[0m \u001b[32m━━━━━━━━━━━━━━━━━━━━\u001b[0m\u001b[37m\u001b[0m \u001b[1m4s\u001b[0m 8ms/step - accuracy: 0.0107 - loss: 6.2209 - val_accuracy: 0.0011 - val_loss: 6.6859 - learning_rate: 4.2188e-05\n",
      "Epoch 16/50\n",
      "\u001b[1m450/450\u001b[0m \u001b[32m━━━━━━━━━━━━━━━━━━━━\u001b[0m\u001b[37m\u001b[0m \u001b[1m4s\u001b[0m 8ms/step - accuracy: 0.0131 - loss: 6.1392 - val_accuracy: 0.0033 - val_loss: 6.5292 - learning_rate: 4.2188e-05\n",
      "Epoch 17/50\n",
      "\u001b[1m450/450\u001b[0m \u001b[32m━━━━━━━━━━━━━━━━━━━━\u001b[0m\u001b[37m\u001b[0m \u001b[1m4s\u001b[0m 8ms/step - accuracy: 0.0171 - loss: 6.0484 - val_accuracy: 0.0028 - val_loss: 6.5664 - learning_rate: 4.2188e-05\n",
      "Epoch 18/50\n",
      "\u001b[1m450/450\u001b[0m \u001b[32m━━━━━━━━━━━━━━━━━━━━\u001b[0m\u001b[37m\u001b[0m \u001b[1m4s\u001b[0m 8ms/step - accuracy: 0.0199 - loss: 5.9695 - val_accuracy: 0.0078 - val_loss: 6.3132 - learning_rate: 4.2188e-05\n",
      "Epoch 19/50\n",
      "\u001b[1m450/450\u001b[0m \u001b[32m━━━━━━━━━━━━━━━━━━━━\u001b[0m\u001b[37m\u001b[0m \u001b[1m4s\u001b[0m 8ms/step - accuracy: 0.0229 - loss: 5.8752 - val_accuracy: 0.0056 - val_loss: 6.2727 - learning_rate: 4.2188e-05\n",
      "Epoch 20/50\n",
      "\u001b[1m450/450\u001b[0m \u001b[32m━━━━━━━━━━━━━━━━━━━━\u001b[0m\u001b[37m\u001b[0m \u001b[1m4s\u001b[0m 8ms/step - accuracy: 0.0245 - loss: 5.7818 - val_accuracy: 0.0106 - val_loss: 6.0975 - learning_rate: 4.2188e-05\n",
      "Epoch 21/50\n",
      "\u001b[1m450/450\u001b[0m \u001b[32m━━━━━━━━━━━━━━━━━━━━\u001b[0m\u001b[37m\u001b[0m \u001b[1m4s\u001b[0m 8ms/step - accuracy: 0.0268 - loss: 5.6903 - val_accuracy: 0.0078 - val_loss: 6.1469 - learning_rate: 4.2188e-05\n",
      "Epoch 22/50\n",
      "\u001b[1m450/450\u001b[0m \u001b[32m━━━━━━━━━━━━━━━━━━━━\u001b[0m\u001b[37m\u001b[0m \u001b[1m4s\u001b[0m 8ms/step - accuracy: 0.0322 - loss: 5.5683 - val_accuracy: 0.0200 - val_loss: 5.8393 - learning_rate: 4.2188e-05\n",
      "Epoch 23/50\n",
      "\u001b[1m450/450\u001b[0m \u001b[32m━━━━━━━━━━━━━━━━━━━━\u001b[0m\u001b[37m\u001b[0m \u001b[1m4s\u001b[0m 8ms/step - accuracy: 0.0408 - loss: 5.4475 - val_accuracy: 0.0172 - val_loss: 5.8370 - learning_rate: 4.2188e-05\n",
      "Epoch 24/50\n",
      "\u001b[1m450/450\u001b[0m \u001b[32m━━━━━━━━━━━━━━━━━━━━\u001b[0m\u001b[37m\u001b[0m \u001b[1m4s\u001b[0m 8ms/step - accuracy: 0.0384 - loss: 5.3431 - val_accuracy: 0.0261 - val_loss: 5.6304 - learning_rate: 4.2188e-05\n",
      "Epoch 25/50\n",
      "\u001b[1m450/450\u001b[0m \u001b[32m━━━━━━━━━━━━━━━━━━━━\u001b[0m\u001b[37m\u001b[0m \u001b[1m4s\u001b[0m 8ms/step - accuracy: 0.0463 - loss: 5.2303 - val_accuracy: 0.0250 - val_loss: 5.5686 - learning_rate: 4.2188e-05\n",
      "Epoch 26/50\n",
      "\u001b[1m450/450\u001b[0m \u001b[32m━━━━━━━━━━━━━━━━━━━━\u001b[0m\u001b[37m\u001b[0m \u001b[1m4s\u001b[0m 8ms/step - accuracy: 0.0496 - loss: 5.1475 - val_accuracy: 0.0200 - val_loss: 5.5222 - learning_rate: 4.2188e-05\n",
      "Epoch 27/50\n",
      "\u001b[1m450/450\u001b[0m \u001b[32m━━━━━━━━━━━━━━━━━━━━\u001b[0m\u001b[37m\u001b[0m \u001b[1m4s\u001b[0m 8ms/step - accuracy: 0.0566 - loss: 5.0560 - val_accuracy: 0.0233 - val_loss: 5.4696 - learning_rate: 4.2188e-05\n",
      "Epoch 28/50\n",
      "\u001b[1m450/450\u001b[0m \u001b[32m━━━━━━━━━━━━━━━━━━━━\u001b[0m\u001b[37m\u001b[0m \u001b[1m4s\u001b[0m 8ms/step - accuracy: 0.0613 - loss: 4.9586 - val_accuracy: 0.0167 - val_loss: 5.6418 - learning_rate: 4.2188e-05\n",
      "Epoch 29/50\n",
      "\u001b[1m450/450\u001b[0m \u001b[32m━━━━━━━━━━━━━━━━━━━━\u001b[0m\u001b[37m\u001b[0m \u001b[1m4s\u001b[0m 8ms/step - accuracy: 0.0621 - loss: 4.8937 - val_accuracy: 0.0278 - val_loss: 5.2298 - learning_rate: 4.2188e-05\n",
      "Epoch 30/50\n",
      "\u001b[1m450/450\u001b[0m \u001b[32m━━━━━━━━━━━━━━━━━━━━\u001b[0m\u001b[37m\u001b[0m \u001b[1m4s\u001b[0m 8ms/step - accuracy: 0.0689 - loss: 4.8197 - val_accuracy: 0.0328 - val_loss: 5.1770 - learning_rate: 4.2188e-05\n",
      "Epoch 31/50\n",
      "\u001b[1m450/450\u001b[0m \u001b[32m━━━━━━━━━━━━━━━━━━━━\u001b[0m\u001b[37m\u001b[0m \u001b[1m4s\u001b[0m 8ms/step - accuracy: 0.0739 - loss: 4.7314 - val_accuracy: 0.0294 - val_loss: 5.1444 - learning_rate: 4.2188e-05\n",
      "Epoch 32/50\n",
      "\u001b[1m450/450\u001b[0m \u001b[32m━━━━━━━━━━━━━━━━━━━━\u001b[0m\u001b[37m\u001b[0m \u001b[1m4s\u001b[0m 8ms/step - accuracy: 0.0733 - loss: 4.6873 - val_accuracy: 0.0372 - val_loss: 5.0226 - learning_rate: 4.2188e-05\n",
      "Epoch 33/50\n",
      "\u001b[1m450/450\u001b[0m \u001b[32m━━━━━━━━━━━━━━━━━━━━\u001b[0m\u001b[37m\u001b[0m \u001b[1m4s\u001b[0m 8ms/step - accuracy: 0.0825 - loss: 4.6064 - val_accuracy: 0.0367 - val_loss: 4.9840 - learning_rate: 4.2188e-05\n",
      "Epoch 34/50\n",
      "\u001b[1m450/450\u001b[0m \u001b[32m━━━━━━━━━━━━━━━━━━━━\u001b[0m\u001b[37m\u001b[0m \u001b[1m4s\u001b[0m 8ms/step - accuracy: 0.0858 - loss: 4.5435 - val_accuracy: 0.0433 - val_loss: 4.9096 - learning_rate: 4.2188e-05\n",
      "Epoch 35/50\n",
      "\u001b[1m450/450\u001b[0m \u001b[32m━━━━━━━━━━━━━━━━━━━━\u001b[0m\u001b[37m\u001b[0m \u001b[1m4s\u001b[0m 8ms/step - accuracy: 0.0962 - loss: 4.4798 - val_accuracy: 0.0322 - val_loss: 5.0579 - learning_rate: 4.2188e-05\n",
      "Epoch 36/50\n",
      "\u001b[1m450/450\u001b[0m \u001b[32m━━━━━━━━━━━━━━━━━━━━\u001b[0m\u001b[37m\u001b[0m \u001b[1m0s\u001b[0m 8ms/step - accuracy: 0.1005 - loss: 4.4318\n",
      "Epoch 36: ReduceLROnPlateau reducing learning rate to 3.164062582072802e-05.\n",
      "\u001b[1m450/450\u001b[0m \u001b[32m━━━━━━━━━━━━━━━━━━━━\u001b[0m\u001b[37m\u001b[0m \u001b[1m4s\u001b[0m 8ms/step - accuracy: 0.1005 - loss: 4.4318 - val_accuracy: 0.0183 - val_loss: 5.4915 - learning_rate: 4.2188e-05\n",
      "Epoch 37/50\n",
      "\u001b[1m450/450\u001b[0m \u001b[32m━━━━━━━━━━━━━━━━━━━━\u001b[0m\u001b[37m\u001b[0m \u001b[1m4s\u001b[0m 8ms/step - accuracy: 0.1093 - loss: 4.3696 - val_accuracy: 0.0406 - val_loss: 4.8422 - learning_rate: 3.1641e-05\n",
      "Epoch 38/50\n",
      "\u001b[1m450/450\u001b[0m \u001b[32m━━━━━━━━━━━━━━━━━━━━\u001b[0m\u001b[37m\u001b[0m \u001b[1m4s\u001b[0m 8ms/step - accuracy: 0.1029 - loss: 4.3243 - val_accuracy: 0.0444 - val_loss: 4.7676 - learning_rate: 3.1641e-05\n",
      "Epoch 39/50\n",
      "\u001b[1m450/450\u001b[0m \u001b[32m━━━━━━━━━━━━━━━━━━━━\u001b[0m\u001b[37m\u001b[0m \u001b[1m4s\u001b[0m 8ms/step - accuracy: 0.1114 - loss: 4.2700 - val_accuracy: 0.0528 - val_loss: 4.6618 - learning_rate: 3.1641e-05\n",
      "Epoch 40/50\n",
      "\u001b[1m450/450\u001b[0m \u001b[32m━━━━━━━━━━━━━━━━━━━━\u001b[0m\u001b[37m\u001b[0m \u001b[1m4s\u001b[0m 8ms/step - accuracy: 0.1218 - loss: 4.2166 - val_accuracy: 0.0500 - val_loss: 4.7150 - learning_rate: 3.1641e-05\n",
      "Epoch 41/50\n",
      "\u001b[1m450/450\u001b[0m \u001b[32m━━━━━━━━━━━━━━━━━━━━\u001b[0m\u001b[37m\u001b[0m \u001b[1m4s\u001b[0m 8ms/step - accuracy: 0.1237 - loss: 4.2021 - val_accuracy: 0.0550 - val_loss: 4.5933 - learning_rate: 3.1641e-05\n",
      "Epoch 42/50\n",
      "\u001b[1m450/450\u001b[0m \u001b[32m━━━━━━━━━━━━━━━━━━━━\u001b[0m\u001b[37m\u001b[0m \u001b[1m4s\u001b[0m 8ms/step - accuracy: 0.1182 - loss: 4.1702 - val_accuracy: 0.0589 - val_loss: 4.5524 - learning_rate: 3.1641e-05\n",
      "Epoch 43/50\n",
      "\u001b[1m450/450\u001b[0m \u001b[32m━━━━━━━━━━━━━━━━━━━━\u001b[0m\u001b[37m\u001b[0m \u001b[1m4s\u001b[0m 8ms/step - accuracy: 0.1349 - loss: 4.1105 - val_accuracy: 0.0600 - val_loss: 4.5060 - learning_rate: 3.1641e-05\n",
      "Epoch 44/50\n",
      "\u001b[1m450/450\u001b[0m \u001b[32m━━━━━━━━━━━━━━━━━━━━\u001b[0m\u001b[37m\u001b[0m \u001b[1m4s\u001b[0m 8ms/step - accuracy: 0.1380 - loss: 4.0854 - val_accuracy: 0.0678 - val_loss: 4.4720 - learning_rate: 3.1641e-05\n",
      "Epoch 45/50\n",
      "\u001b[1m450/450\u001b[0m \u001b[32m━━━━━━━━━━━━━━━━━━━━\u001b[0m\u001b[37m\u001b[0m \u001b[1m4s\u001b[0m 8ms/step - accuracy: 0.1363 - loss: 4.0335 - val_accuracy: 0.0533 - val_loss: 4.6131 - learning_rate: 3.1641e-05\n",
      "Epoch 46/50\n",
      "\u001b[1m448/450\u001b[0m \u001b[32m━━━━━━━━━━━━━━━━━━━\u001b[0m\u001b[37m━\u001b[0m \u001b[1m0s\u001b[0m 8ms/step - accuracy: 0.1412 - loss: 4.0064\n",
      "Epoch 46: ReduceLROnPlateau reducing learning rate to 2.3730469365546014e-05.\n",
      "\u001b[1m450/450\u001b[0m \u001b[32m━━━━━━━━━━━━━━━━━━━━\u001b[0m\u001b[37m\u001b[0m \u001b[1m4s\u001b[0m 8ms/step - accuracy: 0.1412 - loss: 4.0064 - val_accuracy: 0.0506 - val_loss: 4.5825 - learning_rate: 3.1641e-05\n",
      "Epoch 47/50\n",
      "\u001b[1m450/450\u001b[0m \u001b[32m━━━━━━━━━━━━━━━━━━━━\u001b[0m\u001b[37m\u001b[0m \u001b[1m4s\u001b[0m 8ms/step - accuracy: 0.1479 - loss: 3.9633 - val_accuracy: 0.0539 - val_loss: 4.5059 - learning_rate: 2.3730e-05\n",
      "Epoch 48/50\n",
      "\u001b[1m446/450\u001b[0m \u001b[32m━━━━━━━━━━━━━━━━━━━\u001b[0m\u001b[37m━\u001b[0m \u001b[1m0s\u001b[0m 8ms/step - accuracy: 0.1501 - loss: 3.9476\n",
      "Epoch 48: ReduceLROnPlateau reducing learning rate to 1.7797852706280537e-05.\n",
      "\u001b[1m450/450\u001b[0m \u001b[32m━━━━━━━━━━━━━━━━━━━━\u001b[0m\u001b[37m\u001b[0m \u001b[1m4s\u001b[0m 8ms/step - accuracy: 0.1500 - loss: 3.9477 - val_accuracy: 0.0533 - val_loss: 4.4986 - learning_rate: 2.3730e-05\n",
      "Epoch 49/50\n",
      "\u001b[1m450/450\u001b[0m \u001b[32m━━━━━━━━━━━━━━━━━━━━\u001b[0m\u001b[37m\u001b[0m \u001b[1m4s\u001b[0m 8ms/step - accuracy: 0.1538 - loss: 3.9388 - val_accuracy: 0.0628 - val_loss: 4.4020 - learning_rate: 1.7798e-05\n",
      "Epoch 50/50\n",
      "\u001b[1m450/450\u001b[0m \u001b[32m━━━━━━━━━━━━━━━━━━━━\u001b[0m\u001b[37m\u001b[0m \u001b[1m4s\u001b[0m 8ms/step - accuracy: 0.1584 - loss: 3.8916 - val_accuracy: 0.0567 - val_loss: 4.4561 - learning_rate: 1.7798e-05\n",
      "57/57 - 0s - 2ms/step - accuracy: 0.0644 - loss: 4.4212\n"
     ]
    }
   ],
   "source": [
    "\n",
    "K.clear_session()\n",
    "model1 = Sequential([\n",
    "    Rescaling(1./255, input_shape=(75, 75, 1)),\n",
    "    Conv2D(128, (3, 3), activation='relu'),\n",
    "    BatchNormalization(),\n",
    "    MaxPooling2D((2, 2)),\n",
    "    \n",
    "    Conv2D(32, (3, 3), activation='relu'),\n",
    "    BatchNormalization(),\n",
    "    MaxPooling2D((2, 2)),\n",
    "    \n",
    "\n",
    "    Conv2D(64, (3, 3), activation='relu'),\n",
    "    BatchNormalization(),\n",
    "    MaxPooling2D((2, 2)),\n",
    "\n",
    "    Dropout(0.1),\n",
    "\n",
    "    Flatten(),\n",
    "    Dense(128, activation='relu', kernel_regularizer=regularizers.l2(0.01)),\n",
    "    Dense(64, activation='relu',kernel_regularizer=regularizers.l2(0.01)),\n",
    "    Dropout(0.2),\n",
    "    Dense(720, activation='softmax')  \n",
    "])\n",
    "\n",
    "model1.compile(optimizer= Adam(learning_rate=1e-4),\n",
    "              loss='categorical_crossentropy',\n",
    "              metrics=['accuracy'])\n",
    "his_1= model1.fit(\n",
    "    X_train, y_train,\n",
    "    validation_data=(X_val, y_val),\n",
    "    epochs=epochs,\n",
    "    batch_size=batch_size,\n",
    "    callbacks = [reduce_lr],\n",
    "    verbose=1\n",
    ")\n",
    "test_loss1, test_accuracy1 = model1.evaluate(X_test, y_test, verbose=2)"
   ]
  },
  {
   "cell_type": "code",
   "execution_count": 8,
   "metadata": {},
   "outputs": [
    {
     "data": {
      "text/plain": [
       "Text(0.5, 1.0, 'Loss')"
      ]
     },
     "execution_count": 8,
     "metadata": {},
     "output_type": "execute_result"
    },
    {
     "data": {
      "image/png": "[encoded data removed]",
      "text/plain": [
       "<Figure size 600x300 with 2 Axes>"
      ]
     },
     "metadata": {},
     "output_type": "display_data"
    }
   ],
   "source": [
    "import pandas as pd\n",
    "import seaborn as sns\n",
    "mae_df = pd.DataFrame()\n",
    "loss_df = pd.DataFrame()\n",
    "mae_df['train'] = his_1.history['accuracy']\n",
    "mae_df['valid'] = his_1.history['val_accuracy']\n",
    "loss_df['train'] = his_1.history['loss']\n",
    "loss_df['valid'] = his_1.history['val_loss']\n",
    "fig, axs = plt.subplots(ncols=2,figsize=(6,3))\n",
    "sns.lineplot(mae_df,ax=axs[0]).set_title(\"MAE\")\n",
    "sns.lineplot(loss_df,ax=axs[1]).set_title(\"Loss\")"
   ]
  },
  {
   "cell_type": "code",
   "execution_count": 5,
   "metadata": {},
   "outputs": [],
   "source": [
    "def back_to_original(category, b):\n",
    "    total_minutes = category * b\n",
    "    hour = total_minutes // 60\n",
    "    minute = total_minutes % 60\n",
    "    return hour, minute"
   ]
  },
  {
   "cell_type": "code",
   "execution_count": 17,
   "metadata": {},
   "outputs": [
    {
     "name": "stdout",
     "output_type": "stream",
     "text": [
      "\u001b[1m 1/57\u001b[0m \u001b[37m━━━━━━━━━━━━━━━━━━━━\u001b[0m \u001b[1m0s\u001b[0m 9ms/step"
     ]
    },
    {
     "name": "stdout",
     "output_type": "stream",
     "text": [
      "\u001b[1m57/57\u001b[0m \u001b[32m━━━━━━━━━━━━━━━━━━━━\u001b[0m\u001b[37m\u001b[0m \u001b[1m0s\u001b[0m 1ms/step\n",
      "[[ 2 50]\n",
      " [10  4]\n",
      " [10 18]]\n",
      "[[ 2 49]\n",
      " [10  7]\n",
      " [10 16]]\n",
      "0.3888888888888889\n",
      "0.07944444444444444\n"
     ]
    },
    {
     "data": {
      "text/plain": [
       "array([ 1.22666667, 20.73833333])"
      ]
     },
     "execution_count": 17,
     "metadata": {},
     "output_type": "execute_result"
    }
   ],
   "source": [
    "predictions_1 = model1.predict(X_test)\n",
    "# print(predictions_1)\n",
    "predicted_categories_1 = np.argmax(predictions_1, axis=1)\n",
    "org_1 = back_to_original(predicted_categories_1,1)\n",
    "Org_1 = np.column_stack((org_1[0], org_1[1])) \n",
    "print(tru_y[:3])\n",
    "print(Org_1[:3])\n",
    "tru_yhour = tru_y[:,0]\n",
    "pred_y = Org_1[:,0]\n",
    "acc_hour = np.sum(tru_yhour== pred_y) / len(tru_yhour)\n",
    "print(acc_hour)\n",
    "\n",
    "true_ymin = tru_y[:,1]\n",
    "pred_ymin = Org_1[:,1]\n",
    "acc_min = np.sum(true_ymin == pred_ymin) / len(true_ymin)\n",
    "print(acc_min)\n",
    "np.mean(common_sense_err2(tru_y,Org_1),axis=0)"
   ]
  },
  {
   "cell_type": "code",
   "execution_count": 18,
   "metadata": {},
   "outputs": [
    {
     "name": "stdout",
     "output_type": "stream",
     "text": [
      "[[ 2 50]\n",
      " [10  4]\n",
      " [10 18]\n",
      " ...\n",
      " [ 3 18]\n",
      " [ 0 59]\n",
      " [ 9 17]]\n"
     ]
    }
   ],
   "source": [
    "X_train30, X_temp30, y_train30, y_temp30 = train_test_split(images, labels, test_size=0.2, random_state=42)\n",
    "X_val30, X_test30, y_val30, y_test30 = train_test_split(X_temp30, y_temp30, test_size=0.5, random_state=42) \n",
    "true_y30 = y_test30\n",
    "print(true_y30)\n",
    "y_train30 = np.array([function_category(h, m,30) for h, m in y_train30])\n",
    "y_test30 = np.array([function_category(h, m,30) for h, m in y_test30])\n",
    "y_val30 = np.array([function_category(h, m,30) for h, m in y_val30])\n",
    "\n",
    "# Convert labels to categorical format\n",
    "y_train30 = tf.keras.utils.to_categorical(y_train30, num_classes=24)\n",
    "y_val30 = tf.keras.utils.to_categorical(y_val30, num_classes=24)\n",
    "y_test30 = tf.keras.utils.to_categorical(y_test30, num_classes=24)"
   ]
  },
  {
   "cell_type": "code",
   "execution_count": 19,
   "metadata": {},
   "outputs": [
    {
     "name": "stderr",
     "output_type": "stream",
     "text": [
      "/vol/home/s4147510/miniconda3/envs/IDL/lib/python3.12/site-packages/keras/src/layers/preprocessing/tf_data_layer.py:19: UserWarning: Do not pass an `input_shape`/`input_dim` argument to a layer. When using Sequential models, prefer using an `Input(shape)` object as the first layer in the model instead.\n",
      "  super().__init__(**kwargs)\n"
     ]
    },
    {
     "data": {
      "text/html": [
       "<pre style=\"white-space:pre;overflow-x:auto;line-height:normal;font-family:Menlo,'DejaVu Sans Mono',consolas,'Courier New',monospace\"><span style=\"font-weight: bold\">Model: \"sequential_1\"</span>\n",
       "</pre>\n"
      ],
      "text/plain": [
       "\u001b[1mModel: \"sequential_1\"\u001b[0m\n"
      ]
     },
     "metadata": {},
     "output_type": "display_data"
    },
    {
     "data": {
      "text/html": [
       "<pre style=\"white-space:pre;overflow-x:auto;line-height:normal;font-family:Menlo,'DejaVu Sans Mono',consolas,'Courier New',monospace\">┏━━━━━━━━━━━━━━━━━━━━━━━━━━━━━━━━━┳━━━━━━━━━━━━━━━━━━━━━━━━┳━━━━━━━━━━━━━━━┓\n",
       "┃<span style=\"font-weight: bold\"> Layer (type)                    </span>┃<span style=\"font-weight: bold\"> Output Shape           </span>┃<span style=\"font-weight: bold\">       Param # </span>┃\n",
       "┡━━━━━━━━━━━━━━━━━━━━━━━━━━━━━━━━━╇━━━━━━━━━━━━━━━━━━━━━━━━╇━━━━━━━━━━━━━━━┩\n",
       "│ rescaling_1 (<span style=\"color: #0087ff; text-decoration-color: #0087ff\">Rescaling</span>)         │ (<span style=\"color: #00d7ff; text-decoration-color: #00d7ff\">None</span>, <span style=\"color: #00af00; text-decoration-color: #00af00\">75</span>, <span style=\"color: #00af00; text-decoration-color: #00af00\">75</span>, <span style=\"color: #00af00; text-decoration-color: #00af00\">1</span>)      │             <span style=\"color: #00af00; text-decoration-color: #00af00\">0</span> │\n",
       "├─────────────────────────────────┼────────────────────────┼───────────────┤\n",
       "│ conv2d_3 (<span style=\"color: #0087ff; text-decoration-color: #0087ff\">Conv2D</span>)               │ (<span style=\"color: #00d7ff; text-decoration-color: #00d7ff\">None</span>, <span style=\"color: #00af00; text-decoration-color: #00af00\">73</span>, <span style=\"color: #00af00; text-decoration-color: #00af00\">73</span>, <span style=\"color: #00af00; text-decoration-color: #00af00\">128</span>)    │         <span style=\"color: #00af00; text-decoration-color: #00af00\">1,280</span> │\n",
       "├─────────────────────────────────┼────────────────────────┼───────────────┤\n",
       "│ batch_normalization_3           │ (<span style=\"color: #00d7ff; text-decoration-color: #00d7ff\">None</span>, <span style=\"color: #00af00; text-decoration-color: #00af00\">73</span>, <span style=\"color: #00af00; text-decoration-color: #00af00\">73</span>, <span style=\"color: #00af00; text-decoration-color: #00af00\">128</span>)    │           <span style=\"color: #00af00; text-decoration-color: #00af00\">512</span> │\n",
       "│ (<span style=\"color: #0087ff; text-decoration-color: #0087ff\">BatchNormalization</span>)            │                        │               │\n",
       "├─────────────────────────────────┼────────────────────────┼───────────────┤\n",
       "│ max_pooling2d_3 (<span style=\"color: #0087ff; text-decoration-color: #0087ff\">MaxPooling2D</span>)  │ (<span style=\"color: #00d7ff; text-decoration-color: #00d7ff\">None</span>, <span style=\"color: #00af00; text-decoration-color: #00af00\">36</span>, <span style=\"color: #00af00; text-decoration-color: #00af00\">36</span>, <span style=\"color: #00af00; text-decoration-color: #00af00\">128</span>)    │             <span style=\"color: #00af00; text-decoration-color: #00af00\">0</span> │\n",
       "├─────────────────────────────────┼────────────────────────┼───────────────┤\n",
       "│ conv2d_4 (<span style=\"color: #0087ff; text-decoration-color: #0087ff\">Conv2D</span>)               │ (<span style=\"color: #00d7ff; text-decoration-color: #00d7ff\">None</span>, <span style=\"color: #00af00; text-decoration-color: #00af00\">34</span>, <span style=\"color: #00af00; text-decoration-color: #00af00\">34</span>, <span style=\"color: #00af00; text-decoration-color: #00af00\">32</span>)     │        <span style=\"color: #00af00; text-decoration-color: #00af00\">36,896</span> │\n",
       "├─────────────────────────────────┼────────────────────────┼───────────────┤\n",
       "│ batch_normalization_4           │ (<span style=\"color: #00d7ff; text-decoration-color: #00d7ff\">None</span>, <span style=\"color: #00af00; text-decoration-color: #00af00\">34</span>, <span style=\"color: #00af00; text-decoration-color: #00af00\">34</span>, <span style=\"color: #00af00; text-decoration-color: #00af00\">32</span>)     │           <span style=\"color: #00af00; text-decoration-color: #00af00\">128</span> │\n",
       "│ (<span style=\"color: #0087ff; text-decoration-color: #0087ff\">BatchNormalization</span>)            │                        │               │\n",
       "├─────────────────────────────────┼────────────────────────┼───────────────┤\n",
       "│ max_pooling2d_4 (<span style=\"color: #0087ff; text-decoration-color: #0087ff\">MaxPooling2D</span>)  │ (<span style=\"color: #00d7ff; text-decoration-color: #00d7ff\">None</span>, <span style=\"color: #00af00; text-decoration-color: #00af00\">17</span>, <span style=\"color: #00af00; text-decoration-color: #00af00\">17</span>, <span style=\"color: #00af00; text-decoration-color: #00af00\">32</span>)     │             <span style=\"color: #00af00; text-decoration-color: #00af00\">0</span> │\n",
       "├─────────────────────────────────┼────────────────────────┼───────────────┤\n",
       "│ conv2d_5 (<span style=\"color: #0087ff; text-decoration-color: #0087ff\">Conv2D</span>)               │ (<span style=\"color: #00d7ff; text-decoration-color: #00d7ff\">None</span>, <span style=\"color: #00af00; text-decoration-color: #00af00\">15</span>, <span style=\"color: #00af00; text-decoration-color: #00af00\">15</span>, <span style=\"color: #00af00; text-decoration-color: #00af00\">64</span>)     │        <span style=\"color: #00af00; text-decoration-color: #00af00\">18,496</span> │\n",
       "├─────────────────────────────────┼────────────────────────┼───────────────┤\n",
       "│ batch_normalization_5           │ (<span style=\"color: #00d7ff; text-decoration-color: #00d7ff\">None</span>, <span style=\"color: #00af00; text-decoration-color: #00af00\">15</span>, <span style=\"color: #00af00; text-decoration-color: #00af00\">15</span>, <span style=\"color: #00af00; text-decoration-color: #00af00\">64</span>)     │           <span style=\"color: #00af00; text-decoration-color: #00af00\">256</span> │\n",
       "│ (<span style=\"color: #0087ff; text-decoration-color: #0087ff\">BatchNormalization</span>)            │                        │               │\n",
       "├─────────────────────────────────┼────────────────────────┼───────────────┤\n",
       "│ max_pooling2d_5 (<span style=\"color: #0087ff; text-decoration-color: #0087ff\">MaxPooling2D</span>)  │ (<span style=\"color: #00d7ff; text-decoration-color: #00d7ff\">None</span>, <span style=\"color: #00af00; text-decoration-color: #00af00\">7</span>, <span style=\"color: #00af00; text-decoration-color: #00af00\">7</span>, <span style=\"color: #00af00; text-decoration-color: #00af00\">64</span>)       │             <span style=\"color: #00af00; text-decoration-color: #00af00\">0</span> │\n",
       "├─────────────────────────────────┼────────────────────────┼───────────────┤\n",
       "│ dropout_2 (<span style=\"color: #0087ff; text-decoration-color: #0087ff\">Dropout</span>)             │ (<span style=\"color: #00d7ff; text-decoration-color: #00d7ff\">None</span>, <span style=\"color: #00af00; text-decoration-color: #00af00\">7</span>, <span style=\"color: #00af00; text-decoration-color: #00af00\">7</span>, <span style=\"color: #00af00; text-decoration-color: #00af00\">64</span>)       │             <span style=\"color: #00af00; text-decoration-color: #00af00\">0</span> │\n",
       "├─────────────────────────────────┼────────────────────────┼───────────────┤\n",
       "│ flatten_1 (<span style=\"color: #0087ff; text-decoration-color: #0087ff\">Flatten</span>)             │ (<span style=\"color: #00d7ff; text-decoration-color: #00d7ff\">None</span>, <span style=\"color: #00af00; text-decoration-color: #00af00\">3136</span>)           │             <span style=\"color: #00af00; text-decoration-color: #00af00\">0</span> │\n",
       "├─────────────────────────────────┼────────────────────────┼───────────────┤\n",
       "│ dense_3 (<span style=\"color: #0087ff; text-decoration-color: #0087ff\">Dense</span>)                 │ (<span style=\"color: #00d7ff; text-decoration-color: #00d7ff\">None</span>, <span style=\"color: #00af00; text-decoration-color: #00af00\">128</span>)            │       <span style=\"color: #00af00; text-decoration-color: #00af00\">401,536</span> │\n",
       "├─────────────────────────────────┼────────────────────────┼───────────────┤\n",
       "│ dense_4 (<span style=\"color: #0087ff; text-decoration-color: #0087ff\">Dense</span>)                 │ (<span style=\"color: #00d7ff; text-decoration-color: #00d7ff\">None</span>, <span style=\"color: #00af00; text-decoration-color: #00af00\">64</span>)             │         <span style=\"color: #00af00; text-decoration-color: #00af00\">8,256</span> │\n",
       "├─────────────────────────────────┼────────────────────────┼───────────────┤\n",
       "│ dropout_3 (<span style=\"color: #0087ff; text-decoration-color: #0087ff\">Dropout</span>)             │ (<span style=\"color: #00d7ff; text-decoration-color: #00d7ff\">None</span>, <span style=\"color: #00af00; text-decoration-color: #00af00\">64</span>)             │             <span style=\"color: #00af00; text-decoration-color: #00af00\">0</span> │\n",
       "├─────────────────────────────────┼────────────────────────┼───────────────┤\n",
       "│ dense_5 (<span style=\"color: #0087ff; text-decoration-color: #0087ff\">Dense</span>)                 │ (<span style=\"color: #00d7ff; text-decoration-color: #00d7ff\">None</span>, <span style=\"color: #00af00; text-decoration-color: #00af00\">24</span>)             │         <span style=\"color: #00af00; text-decoration-color: #00af00\">1,560</span> │\n",
       "└─────────────────────────────────┴────────────────────────┴───────────────┘\n",
       "</pre>\n"
      ],
      "text/plain": [
       "┏━━━━━━━━━━━━━━━━━━━━━━━━━━━━━━━━━┳━━━━━━━━━━━━━━━━━━━━━━━━┳━━━━━━━━━━━━━━━┓\n",
       "┃\u001b[1m \u001b[0m\u001b[1mLayer (type)                   \u001b[0m\u001b[1m \u001b[0m┃\u001b[1m \u001b[0m\u001b[1mOutput Shape          \u001b[0m\u001b[1m \u001b[0m┃\u001b[1m \u001b[0m\u001b[1m      Param #\u001b[0m\u001b[1m \u001b[0m┃\n",
       "┡━━━━━━━━━━━━━━━━━━━━━━━━━━━━━━━━━╇━━━━━━━━━━━━━━━━━━━━━━━━╇━━━━━━━━━━━━━━━┩\n",
       "│ rescaling_1 (\u001b[38;5;33mRescaling\u001b[0m)         │ (\u001b[38;5;45mNone\u001b[0m, \u001b[38;5;34m75\u001b[0m, \u001b[38;5;34m75\u001b[0m, \u001b[38;5;34m1\u001b[0m)      │             \u001b[38;5;34m0\u001b[0m │\n",
       "├─────────────────────────────────┼────────────────────────┼───────────────┤\n",
       "│ conv2d_3 (\u001b[38;5;33mConv2D\u001b[0m)               │ (\u001b[38;5;45mNone\u001b[0m, \u001b[38;5;34m73\u001b[0m, \u001b[38;5;34m73\u001b[0m, \u001b[38;5;34m128\u001b[0m)    │         \u001b[38;5;34m1,280\u001b[0m │\n",
       "├─────────────────────────────────┼────────────────────────┼───────────────┤\n",
       "│ batch_normalization_3           │ (\u001b[38;5;45mNone\u001b[0m, \u001b[38;5;34m73\u001b[0m, \u001b[38;5;34m73\u001b[0m, \u001b[38;5;34m128\u001b[0m)    │           \u001b[38;5;34m512\u001b[0m │\n",
       "│ (\u001b[38;5;33mBatchNormalization\u001b[0m)            │                        │               │\n",
       "├─────────────────────────────────┼────────────────────────┼───────────────┤\n",
       "│ max_pooling2d_3 (\u001b[38;5;33mMaxPooling2D\u001b[0m)  │ (\u001b[38;5;45mNone\u001b[0m, \u001b[38;5;34m36\u001b[0m, \u001b[38;5;34m36\u001b[0m, \u001b[38;5;34m128\u001b[0m)    │             \u001b[38;5;34m0\u001b[0m │\n",
       "├─────────────────────────────────┼────────────────────────┼───────────────┤\n",
       "│ conv2d_4 (\u001b[38;5;33mConv2D\u001b[0m)               │ (\u001b[38;5;45mNone\u001b[0m, \u001b[38;5;34m34\u001b[0m, \u001b[38;5;34m34\u001b[0m, \u001b[38;5;34m32\u001b[0m)     │        \u001b[38;5;34m36,896\u001b[0m │\n",
       "├─────────────────────────────────┼────────────────────────┼───────────────┤\n",
       "│ batch_normalization_4           │ (\u001b[38;5;45mNone\u001b[0m, \u001b[38;5;34m34\u001b[0m, \u001b[38;5;34m34\u001b[0m, \u001b[38;5;34m32\u001b[0m)     │           \u001b[38;5;34m128\u001b[0m │\n",
       "│ (\u001b[38;5;33mBatchNormalization\u001b[0m)            │                        │               │\n",
       "├─────────────────────────────────┼────────────────────────┼───────────────┤\n",
       "│ max_pooling2d_4 (\u001b[38;5;33mMaxPooling2D\u001b[0m)  │ (\u001b[38;5;45mNone\u001b[0m, \u001b[38;5;34m17\u001b[0m, \u001b[38;5;34m17\u001b[0m, \u001b[38;5;34m32\u001b[0m)     │             \u001b[38;5;34m0\u001b[0m │\n",
       "├─────────────────────────────────┼────────────────────────┼───────────────┤\n",
       "│ conv2d_5 (\u001b[38;5;33mConv2D\u001b[0m)               │ (\u001b[38;5;45mNone\u001b[0m, \u001b[38;5;34m15\u001b[0m, \u001b[38;5;34m15\u001b[0m, \u001b[38;5;34m64\u001b[0m)     │        \u001b[38;5;34m18,496\u001b[0m │\n",
       "├─────────────────────────────────┼────────────────────────┼───────────────┤\n",
       "│ batch_normalization_5           │ (\u001b[38;5;45mNone\u001b[0m, \u001b[38;5;34m15\u001b[0m, \u001b[38;5;34m15\u001b[0m, \u001b[38;5;34m64\u001b[0m)     │           \u001b[38;5;34m256\u001b[0m │\n",
       "│ (\u001b[38;5;33mBatchNormalization\u001b[0m)            │                        │               │\n",
       "├─────────────────────────────────┼────────────────────────┼───────────────┤\n",
       "│ max_pooling2d_5 (\u001b[38;5;33mMaxPooling2D\u001b[0m)  │ (\u001b[38;5;45mNone\u001b[0m, \u001b[38;5;34m7\u001b[0m, \u001b[38;5;34m7\u001b[0m, \u001b[38;5;34m64\u001b[0m)       │             \u001b[38;5;34m0\u001b[0m │\n",
       "├─────────────────────────────────┼────────────────────────┼───────────────┤\n",
       "│ dropout_2 (\u001b[38;5;33mDropout\u001b[0m)             │ (\u001b[38;5;45mNone\u001b[0m, \u001b[38;5;34m7\u001b[0m, \u001b[38;5;34m7\u001b[0m, \u001b[38;5;34m64\u001b[0m)       │             \u001b[38;5;34m0\u001b[0m │\n",
       "├─────────────────────────────────┼────────────────────────┼───────────────┤\n",
       "│ flatten_1 (\u001b[38;5;33mFlatten\u001b[0m)             │ (\u001b[38;5;45mNone\u001b[0m, \u001b[38;5;34m3136\u001b[0m)           │             \u001b[38;5;34m0\u001b[0m │\n",
       "├─────────────────────────────────┼────────────────────────┼───────────────┤\n",
       "│ dense_3 (\u001b[38;5;33mDense\u001b[0m)                 │ (\u001b[38;5;45mNone\u001b[0m, \u001b[38;5;34m128\u001b[0m)            │       \u001b[38;5;34m401,536\u001b[0m │\n",
       "├─────────────────────────────────┼────────────────────────┼───────────────┤\n",
       "│ dense_4 (\u001b[38;5;33mDense\u001b[0m)                 │ (\u001b[38;5;45mNone\u001b[0m, \u001b[38;5;34m64\u001b[0m)             │         \u001b[38;5;34m8,256\u001b[0m │\n",
       "├─────────────────────────────────┼────────────────────────┼───────────────┤\n",
       "│ dropout_3 (\u001b[38;5;33mDropout\u001b[0m)             │ (\u001b[38;5;45mNone\u001b[0m, \u001b[38;5;34m64\u001b[0m)             │             \u001b[38;5;34m0\u001b[0m │\n",
       "├─────────────────────────────────┼────────────────────────┼───────────────┤\n",
       "│ dense_5 (\u001b[38;5;33mDense\u001b[0m)                 │ (\u001b[38;5;45mNone\u001b[0m, \u001b[38;5;34m24\u001b[0m)             │         \u001b[38;5;34m1,560\u001b[0m │\n",
       "└─────────────────────────────────┴────────────────────────┴───────────────┘\n"
      ]
     },
     "metadata": {},
     "output_type": "display_data"
    },
    {
     "data": {
      "text/html": [
       "<pre style=\"white-space:pre;overflow-x:auto;line-height:normal;font-family:Menlo,'DejaVu Sans Mono',consolas,'Courier New',monospace\"><span style=\"font-weight: bold\"> Total params: </span><span style=\"color: #00af00; text-decoration-color: #00af00\">468,920</span> (1.79 MB)\n",
       "</pre>\n"
      ],
      "text/plain": [
       "\u001b[1m Total params: \u001b[0m\u001b[38;5;34m468,920\u001b[0m (1.79 MB)\n"
      ]
     },
     "metadata": {},
     "output_type": "display_data"
    },
    {
     "data": {
      "text/html": [
       "<pre style=\"white-space:pre;overflow-x:auto;line-height:normal;font-family:Menlo,'DejaVu Sans Mono',consolas,'Courier New',monospace\"><span style=\"font-weight: bold\"> Trainable params: </span><span style=\"color: #00af00; text-decoration-color: #00af00\">468,472</span> (1.79 MB)\n",
       "</pre>\n"
      ],
      "text/plain": [
       "\u001b[1m Trainable params: \u001b[0m\u001b[38;5;34m468,472\u001b[0m (1.79 MB)\n"
      ]
     },
     "metadata": {},
     "output_type": "display_data"
    },
    {
     "data": {
      "text/html": [
       "<pre style=\"white-space:pre;overflow-x:auto;line-height:normal;font-family:Menlo,'DejaVu Sans Mono',consolas,'Courier New',monospace\"><span style=\"font-weight: bold\"> Non-trainable params: </span><span style=\"color: #00af00; text-decoration-color: #00af00\">448</span> (1.75 KB)\n",
       "</pre>\n"
      ],
      "text/plain": [
       "\u001b[1m Non-trainable params: \u001b[0m\u001b[38;5;34m448\u001b[0m (1.75 KB)\n"
      ]
     },
     "metadata": {},
     "output_type": "display_data"
    },
    {
     "name": "stdout",
     "output_type": "stream",
     "text": [
      "Epoch 1/50\n",
      "\u001b[1m450/450\u001b[0m \u001b[32m━━━━━━━━━━━━━━━━━━━━\u001b[0m\u001b[37m\u001b[0m \u001b[1m7s\u001b[0m 10ms/step - accuracy: 0.0445 - loss: 6.4478 - val_accuracy: 0.0439 - val_loss: 5.6810 - learning_rate: 1.0000e-04\n",
      "Epoch 2/50\n",
      "\u001b[1m450/450\u001b[0m \u001b[32m━━━━━━━━━━━━━━━━━━━━\u001b[0m\u001b[37m\u001b[0m \u001b[1m4s\u001b[0m 8ms/step - accuracy: 0.0487 - loss: 5.3706 - val_accuracy: 0.0656 - val_loss: 4.7271 - learning_rate: 1.0000e-04\n",
      "Epoch 3/50\n",
      "\u001b[1m450/450\u001b[0m \u001b[32m━━━━━━━━━━━━━━━━━━━━\u001b[0m\u001b[37m\u001b[0m \u001b[1m4s\u001b[0m 8ms/step - accuracy: 0.0677 - loss: 4.5490 - val_accuracy: 0.1094 - val_loss: 4.0021 - learning_rate: 1.0000e-04\n",
      "Epoch 4/50\n",
      "\u001b[1m450/450\u001b[0m \u001b[32m━━━━━━━━━━━━━━━━━━━━\u001b[0m\u001b[37m\u001b[0m \u001b[1m4s\u001b[0m 8ms/step - accuracy: 0.1147 - loss: 3.8678 - val_accuracy: 0.1533 - val_loss: 3.4017 - learning_rate: 1.0000e-04\n",
      "Epoch 5/50\n",
      "\u001b[1m450/450\u001b[0m \u001b[32m━━━━━━━━━━━━━━━━━━━━\u001b[0m\u001b[37m\u001b[0m \u001b[1m4s\u001b[0m 8ms/step - accuracy: 0.1735 - loss: 3.3056 - val_accuracy: 0.2289 - val_loss: 2.9345 - learning_rate: 1.0000e-04\n",
      "Epoch 6/50\n",
      "\u001b[1m450/450\u001b[0m \u001b[32m━━━━━━━━━━━━━━━━━━━━\u001b[0m\u001b[37m\u001b[0m \u001b[1m4s\u001b[0m 8ms/step - accuracy: 0.2311 - loss: 2.9024 - val_accuracy: 0.2950 - val_loss: 2.6670 - learning_rate: 1.0000e-04\n",
      "Epoch 7/50\n",
      "\u001b[1m450/450\u001b[0m \u001b[32m━━━━━━━━━━━━━━━━━━━━\u001b[0m\u001b[37m\u001b[0m \u001b[1m4s\u001b[0m 8ms/step - accuracy: 0.2927 - loss: 2.5999 - val_accuracy: 0.3256 - val_loss: 2.4904 - learning_rate: 1.0000e-04\n",
      "Epoch 8/50\n",
      "\u001b[1m450/450\u001b[0m \u001b[32m━━━━━━━━━━━━━━━━━━━━\u001b[0m\u001b[37m\u001b[0m \u001b[1m4s\u001b[0m 8ms/step - accuracy: 0.3581 - loss: 2.3507 - val_accuracy: 0.4050 - val_loss: 2.2850 - learning_rate: 1.0000e-04\n",
      "Epoch 9/50\n",
      "\u001b[1m450/450\u001b[0m \u001b[32m━━━━━━━━━━━━━━━━━━━━\u001b[0m\u001b[37m\u001b[0m \u001b[1m4s\u001b[0m 8ms/step - accuracy: 0.4262 - loss: 2.1201 - val_accuracy: 0.4294 - val_loss: 2.1495 - learning_rate: 1.0000e-04\n",
      "Epoch 10/50\n",
      "\u001b[1m450/450\u001b[0m \u001b[32m━━━━━━━━━━━━━━━━━━━━\u001b[0m\u001b[37m\u001b[0m \u001b[1m4s\u001b[0m 8ms/step - accuracy: 0.4943 - loss: 1.9123 - val_accuracy: 0.5444 - val_loss: 1.8447 - learning_rate: 1.0000e-04\n",
      "Epoch 11/50\n",
      "\u001b[1m450/450\u001b[0m \u001b[32m━━━━━━━━━━━━━━━━━━━━\u001b[0m\u001b[37m\u001b[0m \u001b[1m4s\u001b[0m 8ms/step - accuracy: 0.5627 - loss: 1.7230 - val_accuracy: 0.5400 - val_loss: 1.7997 - learning_rate: 1.0000e-04\n",
      "Epoch 12/50\n",
      "\u001b[1m450/450\u001b[0m \u001b[32m━━━━━━━━━━━━━━━━━━━━\u001b[0m\u001b[37m\u001b[0m \u001b[1m4s\u001b[0m 8ms/step - accuracy: 0.6129 - loss: 1.5767 - val_accuracy: 0.5678 - val_loss: 1.6931 - learning_rate: 1.0000e-04\n",
      "Epoch 13/50\n",
      "\u001b[1m450/450\u001b[0m \u001b[32m━━━━━━━━━━━━━━━━━━━━\u001b[0m\u001b[37m\u001b[0m \u001b[1m4s\u001b[0m 8ms/step - accuracy: 0.6667 - loss: 1.4454 - val_accuracy: 0.6367 - val_loss: 1.5545 - learning_rate: 1.0000e-04\n",
      "Epoch 14/50\n",
      "\u001b[1m450/450\u001b[0m \u001b[32m━━━━━━━━━━━━━━━━━━━━\u001b[0m\u001b[37m\u001b[0m \u001b[1m4s\u001b[0m 8ms/step - accuracy: 0.7056 - loss: 1.3246 - val_accuracy: 0.5478 - val_loss: 1.7576 - learning_rate: 1.0000e-04\n",
      "Epoch 15/50\n",
      "\u001b[1m450/450\u001b[0m \u001b[32m━━━━━━━━━━━━━━━━━━━━\u001b[0m\u001b[37m\u001b[0m \u001b[1m4s\u001b[0m 8ms/step - accuracy: 0.7530 - loss: 1.2216 - val_accuracy: 0.6589 - val_loss: 1.4489 - learning_rate: 1.0000e-04\n",
      "Epoch 16/50\n",
      "\u001b[1m450/450\u001b[0m \u001b[32m━━━━━━━━━━━━━━━━━━━━\u001b[0m\u001b[37m\u001b[0m \u001b[1m4s\u001b[0m 8ms/step - accuracy: 0.7791 - loss: 1.1472 - val_accuracy: 0.7600 - val_loss: 1.2050 - learning_rate: 1.0000e-04\n",
      "Epoch 17/50\n",
      "\u001b[1m450/450\u001b[0m \u001b[32m━━━━━━━━━━━━━━━━━━━━\u001b[0m\u001b[37m\u001b[0m \u001b[1m4s\u001b[0m 8ms/step - accuracy: 0.8108 - loss: 1.0687 - val_accuracy: 0.7278 - val_loss: 1.2597 - learning_rate: 1.0000e-04\n",
      "Epoch 18/50\n",
      "\u001b[1m450/450\u001b[0m \u001b[32m━━━━━━━━━━━━━━━━━━━━\u001b[0m\u001b[37m\u001b[0m \u001b[1m4s\u001b[0m 8ms/step - accuracy: 0.8296 - loss: 1.0015 - val_accuracy: 0.7656 - val_loss: 1.1369 - learning_rate: 1.0000e-04\n",
      "Epoch 19/50\n",
      "\u001b[1m450/450\u001b[0m \u001b[32m━━━━━━━━━━━━━━━━━━━━\u001b[0m\u001b[37m\u001b[0m \u001b[1m4s\u001b[0m 8ms/step - accuracy: 0.8609 - loss: 0.9254 - val_accuracy: 0.7989 - val_loss: 1.0973 - learning_rate: 1.0000e-04\n",
      "Epoch 20/50\n",
      "\u001b[1m450/450\u001b[0m \u001b[32m━━━━━━━━━━━━━━━━━━━━\u001b[0m\u001b[37m\u001b[0m \u001b[1m4s\u001b[0m 8ms/step - accuracy: 0.8759 - loss: 0.8798 - val_accuracy: 0.7744 - val_loss: 1.1165 - learning_rate: 1.0000e-04\n",
      "Epoch 21/50\n",
      "\u001b[1m444/450\u001b[0m \u001b[32m━━━━━━━━━━━━━━━━━━━\u001b[0m\u001b[37m━\u001b[0m \u001b[1m0s\u001b[0m 8ms/step - accuracy: 0.8910 - loss: 0.8360\n",
      "Epoch 21: ReduceLROnPlateau reducing learning rate to 7.499999810534064e-05.\n",
      "\u001b[1m450/450\u001b[0m \u001b[32m━━━━━━━━━━━━━━━━━━━━\u001b[0m\u001b[37m\u001b[0m \u001b[1m4s\u001b[0m 8ms/step - accuracy: 0.8910 - loss: 0.8358 - val_accuracy: 0.6583 - val_loss: 1.4129 - learning_rate: 1.0000e-04\n",
      "Epoch 22/50\n",
      "\u001b[1m450/450\u001b[0m \u001b[32m━━━━━━━━━━━━━━━━━━━━\u001b[0m\u001b[37m\u001b[0m \u001b[1m4s\u001b[0m 8ms/step - accuracy: 0.9096 - loss: 0.7770 - val_accuracy: 0.8572 - val_loss: 0.8970 - learning_rate: 7.5000e-05\n",
      "Epoch 23/50\n",
      "\u001b[1m450/450\u001b[0m \u001b[32m━━━━━━━━━━━━━━━━━━━━\u001b[0m\u001b[37m\u001b[0m \u001b[1m4s\u001b[0m 8ms/step - accuracy: 0.9243 - loss: 0.7298 - val_accuracy: 0.8056 - val_loss: 1.0135 - learning_rate: 7.5000e-05\n",
      "Epoch 24/50\n",
      "\u001b[1m450/450\u001b[0m \u001b[32m━━━━━━━━━━━━━━━━━━━━\u001b[0m\u001b[37m\u001b[0m \u001b[1m4s\u001b[0m 8ms/step - accuracy: 0.9360 - loss: 0.6971 - val_accuracy: 0.8500 - val_loss: 0.8668 - learning_rate: 7.5000e-05\n",
      "Epoch 25/50\n",
      "\u001b[1m450/450\u001b[0m \u001b[32m━━━━━━━━━━━━━━━━━━━━\u001b[0m\u001b[37m\u001b[0m \u001b[1m4s\u001b[0m 8ms/step - accuracy: 0.9358 - loss: 0.6742 - val_accuracy: 0.8489 - val_loss: 0.8488 - learning_rate: 7.5000e-05\n",
      "Epoch 26/50\n",
      "\u001b[1m450/450\u001b[0m \u001b[32m━━━━━━━━━━━━━━━━━━━━\u001b[0m\u001b[37m\u001b[0m \u001b[1m4s\u001b[0m 8ms/step - accuracy: 0.9403 - loss: 0.6507 - val_accuracy: 0.8528 - val_loss: 0.8488 - learning_rate: 7.5000e-05\n",
      "Epoch 27/50\n",
      "\u001b[1m445/450\u001b[0m \u001b[32m━━━━━━━━━━━━━━━━━━━\u001b[0m\u001b[37m━\u001b[0m \u001b[1m0s\u001b[0m 8ms/step - accuracy: 0.9493 - loss: 0.6231\n",
      "Epoch 27: ReduceLROnPlateau reducing learning rate to 5.6249997214763425e-05.\n",
      "\u001b[1m450/450\u001b[0m \u001b[32m━━━━━━━━━━━━━━━━━━━━\u001b[0m\u001b[37m\u001b[0m \u001b[1m4s\u001b[0m 8ms/step - accuracy: 0.9494 - loss: 0.6231 - val_accuracy: 0.8394 - val_loss: 0.8770 - learning_rate: 7.5000e-05\n",
      "Epoch 28/50\n",
      "\u001b[1m450/450\u001b[0m \u001b[32m━━━━━━━━━━━━━━━━━━━━\u001b[0m\u001b[37m\u001b[0m \u001b[1m4s\u001b[0m 8ms/step - accuracy: 0.9536 - loss: 0.5955 - val_accuracy: 0.8206 - val_loss: 0.8959 - learning_rate: 5.6250e-05\n",
      "Epoch 29/50\n",
      "\u001b[1m450/450\u001b[0m \u001b[32m━━━━━━━━━━━━━━━━━━━━\u001b[0m\u001b[37m\u001b[0m \u001b[1m4s\u001b[0m 8ms/step - accuracy: 0.9584 - loss: 0.5644 - val_accuracy: 0.8778 - val_loss: 0.7450 - learning_rate: 5.6250e-05\n",
      "Epoch 30/50\n",
      "\u001b[1m450/450\u001b[0m \u001b[32m━━━━━━━━━━━━━━━━━━━━\u001b[0m\u001b[37m\u001b[0m \u001b[1m4s\u001b[0m 8ms/step - accuracy: 0.9665 - loss: 0.5458 - val_accuracy: 0.8956 - val_loss: 0.6964 - learning_rate: 5.6250e-05\n",
      "Epoch 31/50\n",
      "\u001b[1m450/450\u001b[0m \u001b[32m━━━━━━━━━━━━━━━━━━━━\u001b[0m\u001b[37m\u001b[0m \u001b[1m4s\u001b[0m 8ms/step - accuracy: 0.9680 - loss: 0.5325 - val_accuracy: 0.8722 - val_loss: 0.7453 - learning_rate: 5.6250e-05\n",
      "Epoch 32/50\n",
      "\u001b[1m447/450\u001b[0m \u001b[32m━━━━━━━━━━━━━━━━━━━\u001b[0m\u001b[37m━\u001b[0m \u001b[1m0s\u001b[0m 8ms/step - accuracy: 0.9668 - loss: 0.5196\n",
      "Epoch 32: ReduceLROnPlateau reducing learning rate to 4.218749927531462e-05.\n",
      "\u001b[1m450/450\u001b[0m \u001b[32m━━━━━━━━━━━━━━━━━━━━\u001b[0m\u001b[37m\u001b[0m \u001b[1m4s\u001b[0m 8ms/step - accuracy: 0.9669 - loss: 0.5195 - val_accuracy: 0.8722 - val_loss: 0.7317 - learning_rate: 5.6250e-05\n",
      "Epoch 33/50\n",
      "\u001b[1m450/450\u001b[0m \u001b[32m━━━━━━━━━━━━━━━━━━━━\u001b[0m\u001b[37m\u001b[0m \u001b[1m4s\u001b[0m 8ms/step - accuracy: 0.9737 - loss: 0.4981 - val_accuracy: 0.8878 - val_loss: 0.6902 - learning_rate: 4.2188e-05\n",
      "Epoch 34/50\n",
      "\u001b[1m450/450\u001b[0m \u001b[32m━━━━━━━━━━━━━━━━━━━━\u001b[0m\u001b[37m\u001b[0m \u001b[1m4s\u001b[0m 9ms/step - accuracy: 0.9721 - loss: 0.4924 - val_accuracy: 0.8889 - val_loss: 0.6814 - learning_rate: 4.2188e-05\n",
      "Epoch 35/50\n",
      "\u001b[1m450/450\u001b[0m \u001b[32m━━━━━━━━━━━━━━━━━━━━\u001b[0m\u001b[37m\u001b[0m \u001b[1m4s\u001b[0m 8ms/step - accuracy: 0.9739 - loss: 0.4753 - val_accuracy: 0.8983 - val_loss: 0.6486 - learning_rate: 4.2188e-05\n",
      "Epoch 36/50\n",
      "\u001b[1m450/450\u001b[0m \u001b[32m━━━━━━━━━━━━━━━━━━━━\u001b[0m\u001b[37m\u001b[0m \u001b[1m4s\u001b[0m 8ms/step - accuracy: 0.9761 - loss: 0.4643 - val_accuracy: 0.9022 - val_loss: 0.6394 - learning_rate: 4.2188e-05\n",
      "Epoch 37/50\n",
      "\u001b[1m450/450\u001b[0m \u001b[32m━━━━━━━━━━━━━━━━━━━━\u001b[0m\u001b[37m\u001b[0m \u001b[1m4s\u001b[0m 8ms/step - accuracy: 0.9795 - loss: 0.4543 - val_accuracy: 0.8956 - val_loss: 0.6397 - learning_rate: 4.2188e-05\n",
      "Epoch 38/50\n",
      "\u001b[1m446/450\u001b[0m \u001b[32m━━━━━━━━━━━━━━━━━━━\u001b[0m\u001b[37m━\u001b[0m \u001b[1m0s\u001b[0m 8ms/step - accuracy: 0.9806 - loss: 0.4424\n",
      "Epoch 38: ReduceLROnPlateau reducing learning rate to 3.164062582072802e-05.\n",
      "\u001b[1m450/450\u001b[0m \u001b[32m━━━━━━━━━━━━━━━━━━━━\u001b[0m\u001b[37m\u001b[0m \u001b[1m4s\u001b[0m 8ms/step - accuracy: 0.9806 - loss: 0.4424 - val_accuracy: 0.8989 - val_loss: 0.6473 - learning_rate: 4.2188e-05\n",
      "Epoch 39/50\n",
      "\u001b[1m450/450\u001b[0m \u001b[32m━━━━━━━━━━━━━━━━━━━━\u001b[0m\u001b[37m\u001b[0m \u001b[1m4s\u001b[0m 8ms/step - accuracy: 0.9813 - loss: 0.4334 - val_accuracy: 0.9011 - val_loss: 0.6194 - learning_rate: 3.1641e-05\n",
      "Epoch 40/50\n",
      "\u001b[1m450/450\u001b[0m \u001b[32m━━━━━━━━━━━━━━━━━━━━\u001b[0m\u001b[37m\u001b[0m \u001b[1m4s\u001b[0m 8ms/step - accuracy: 0.9828 - loss: 0.4226 - val_accuracy: 0.9061 - val_loss: 0.6041 - learning_rate: 3.1641e-05\n",
      "Epoch 41/50\n",
      "\u001b[1m450/450\u001b[0m \u001b[32m━━━━━━━━━━━━━━━━━━━━\u001b[0m\u001b[37m\u001b[0m \u001b[1m4s\u001b[0m 8ms/step - accuracy: 0.9851 - loss: 0.4124 - val_accuracy: 0.9072 - val_loss: 0.6000 - learning_rate: 3.1641e-05\n",
      "Epoch 42/50\n",
      "\u001b[1m450/450\u001b[0m \u001b[32m━━━━━━━━━━━━━━━━━━━━\u001b[0m\u001b[37m\u001b[0m \u001b[1m4s\u001b[0m 8ms/step - accuracy: 0.9872 - loss: 0.4025 - val_accuracy: 0.9111 - val_loss: 0.5835 - learning_rate: 3.1641e-05\n",
      "Epoch 43/50\n",
      "\u001b[1m450/450\u001b[0m \u001b[32m━━━━━━━━━━━━━━━━━━━━\u001b[0m\u001b[37m\u001b[0m \u001b[1m4s\u001b[0m 8ms/step - accuracy: 0.9815 - loss: 0.4037 - val_accuracy: 0.9144 - val_loss: 0.5784 - learning_rate: 3.1641e-05\n",
      "Epoch 44/50\n",
      "\u001b[1m450/450\u001b[0m \u001b[32m━━━━━━━━━━━━━━━━━━━━\u001b[0m\u001b[37m\u001b[0m \u001b[1m4s\u001b[0m 8ms/step - accuracy: 0.9835 - loss: 0.3954 - val_accuracy: 0.9106 - val_loss: 0.5787 - learning_rate: 3.1641e-05\n",
      "Epoch 45/50\n",
      "\u001b[1m450/450\u001b[0m \u001b[32m━━━━━━━━━━━━━━━━━━━━\u001b[0m\u001b[37m\u001b[0m \u001b[1m4s\u001b[0m 8ms/step - accuracy: 0.9859 - loss: 0.3899 - val_accuracy: 0.9111 - val_loss: 0.5712 - learning_rate: 3.1641e-05\n",
      "Epoch 46/50\n",
      "\u001b[1m450/450\u001b[0m \u001b[32m━━━━━━━━━━━━━━━━━━━━\u001b[0m\u001b[37m\u001b[0m \u001b[1m4s\u001b[0m 8ms/step - accuracy: 0.9879 - loss: 0.3829 - val_accuracy: 0.9111 - val_loss: 0.5564 - learning_rate: 3.1641e-05\n",
      "Epoch 47/50\n",
      "\u001b[1m450/450\u001b[0m \u001b[32m━━━━━━━━━━━━━━━━━━━━\u001b[0m\u001b[37m\u001b[0m \u001b[1m4s\u001b[0m 8ms/step - accuracy: 0.9851 - loss: 0.3777 - val_accuracy: 0.9006 - val_loss: 0.5785 - learning_rate: 3.1641e-05\n",
      "Epoch 48/50\n",
      "\u001b[1m449/450\u001b[0m \u001b[32m━━━━━━━━━━━━━━━━━━━\u001b[0m\u001b[37m━\u001b[0m \u001b[1m0s\u001b[0m 8ms/step - accuracy: 0.9861 - loss: 0.3709\n",
      "Epoch 48: ReduceLROnPlateau reducing learning rate to 2.3730469365546014e-05.\n",
      "\u001b[1m450/450\u001b[0m \u001b[32m━━━━━━━━━━━━━━━━━━━━\u001b[0m\u001b[37m\u001b[0m \u001b[1m4s\u001b[0m 8ms/step - accuracy: 0.9861 - loss: 0.3709 - val_accuracy: 0.9000 - val_loss: 0.5940 - learning_rate: 3.1641e-05\n",
      "Epoch 49/50\n",
      "\u001b[1m450/450\u001b[0m \u001b[32m━━━━━━━━━━━━━━━━━━━━\u001b[0m\u001b[37m\u001b[0m \u001b[1m4s\u001b[0m 8ms/step - accuracy: 0.9863 - loss: 0.3663 - val_accuracy: 0.9083 - val_loss: 0.5736 - learning_rate: 2.3730e-05\n",
      "Epoch 50/50\n",
      "\u001b[1m450/450\u001b[0m \u001b[32m━━━━━━━━━━━━━━━━━━━━\u001b[0m\u001b[37m\u001b[0m \u001b[1m4s\u001b[0m 8ms/step - accuracy: 0.9901 - loss: 0.3575 - val_accuracy: 0.9150 - val_loss: 0.5461 - learning_rate: 2.3730e-05\n",
      "57/57 - 0s - 1ms/step - accuracy: 0.9228 - loss: 0.5195\n"
     ]
    }
   ],
   "source": [
    "K.clear_session()\n",
    "model30 = Sequential([\n",
    "    Rescaling(1./255, input_shape=(75, 75, 1)),\n",
    "    Conv2D(128, (3, 3), activation='relu'),\n",
    "    BatchNormalization(),\n",
    "    MaxPooling2D((2, 2)),\n",
    "    \n",
    "    Conv2D(32, (3, 3), activation='relu'),\n",
    "    BatchNormalization(),\n",
    "    MaxPooling2D((2, 2)),\n",
    "    \n",
    "    Conv2D(64, (3, 3), activation='relu'),\n",
    "    BatchNormalization(),\n",
    "    MaxPooling2D((2, 2)),\n",
    "    \n",
    "    Dropout(0.1),\n",
    "\n",
    "    Flatten(),\n",
    "    Dense(128, activation='relu', kernel_regularizer=regularizers.l2(0.01)),\n",
    "    Dense(64, activation='relu',kernel_regularizer=regularizers.l2(0.01)),\n",
    "    Dropout(0.2),\n",
    "    Dense(24, activation='softmax') \n",
    "])\n",
    "\n",
    "model30.compile(optimizer= Adam(learning_rate=1e-4),\n",
    "              loss='categorical_crossentropy',\n",
    "              metrics=['accuracy'])\n",
    "\n",
    "model30.summary()\n",
    "\n",
    "history= model30.fit(\n",
    "    X_train30, y_train30,\n",
    "    validation_data=(X_val30, y_val30),\n",
    "    epochs=epochs,\n",
    "    batch_size=batch_size,\n",
    "    callbacks =[reduce_lr],\n",
    "    verbose=1\n",
    ")\n",
    "test_loss, test_accuracy = model30.evaluate(X_test30, y_test30, verbose=2)"
   ]
  },
  {
   "cell_type": "code",
   "execution_count": 20,
   "metadata": {},
   "outputs": [
    {
     "data": {
      "text/plain": [
       "Text(0.5, 1.0, 'Loss')"
      ]
     },
     "execution_count": 20,
     "metadata": {},
     "output_type": "execute_result"
    },
    {
     "data": {
      "image/png": "[encoded data removed]",
      "text/plain": [
       "<Figure size 600x300 with 2 Axes>"
      ]
     },
     "metadata": {},
     "output_type": "display_data"
    }
   ],
   "source": [
    "import pandas as pd\n",
    "import seaborn as sns\n",
    "mae_df = pd.DataFrame()\n",
    "loss_df = pd.DataFrame()\n",
    "mae_df['train'] = history.history['accuracy']\n",
    "mae_df['valid'] = history.history['val_accuracy']\n",
    "loss_df['train'] = history.history['loss']\n",
    "loss_df['valid'] = history.history['val_loss']\n",
    "fig, axs = plt.subplots(ncols=2,figsize=(6,3))\n",
    "sns.lineplot(mae_df,ax=axs[0]).set_title(\"MAE\")\n",
    "sns.lineplot(loss_df,ax=axs[1]).set_title(\"Loss\")"
   ]
  },
  {
   "cell_type": "code",
   "execution_count": 22,
   "metadata": {},
   "outputs": [
    {
     "name": "stdout",
     "output_type": "stream",
     "text": [
      "\u001b[1m 1/57\u001b[0m \u001b[37m━━━━━━━━━━━━━━━━━━━━\u001b[0m \u001b[1m0s\u001b[0m 9ms/step"
     ]
    },
    {
     "name": "stdout",
     "output_type": "stream",
     "text": [
      "\u001b[1m57/57\u001b[0m \u001b[32m━━━━━━━━━━━━━━━━━━━━\u001b[0m\u001b[37m\u001b[0m \u001b[1m0s\u001b[0m 1ms/step\n",
      "[[ 2 30]\n",
      " [10  0]\n",
      " [10  0]\n",
      " ...\n",
      " [ 3  0]\n",
      " [ 1  0]\n",
      " [ 9  0]]\n",
      "0.9461111111111111\n",
      "0.022222222222222223\n"
     ]
    },
    {
     "data": {
      "text/plain": [
       "array([ 0.02777778, 14.83444444])"
      ]
     },
     "execution_count": 22,
     "metadata": {},
     "output_type": "execute_result"
    }
   ],
   "source": [
    "predictions_30 = model30.predict(X_test30)\n",
    "predicted_categories_30 = np.argmax(predictions_30, axis=1)\n",
    "org_30 = back_to_original(predicted_categories_30,30)\n",
    "Org_30 = np.column_stack((org_30[0], org_30[1])) \n",
    "print(Org_30)\n",
    "tru30_yhour = true_y30[:,0]\n",
    "pred_y30 = Org_30[:,0]\n",
    "acc_hour30 = np.sum(tru30_yhour== pred_y30) / len(tru30_yhour)\n",
    "print(acc_hour30)\n",
    "\n",
    "true30_ymin = true_y30[:,1]\n",
    "pred_ymin30 = Org_30[:,1]\n",
    "acc_min30 = np.sum(true30_ymin == pred_ymin30) / len(true30_ymin)\n",
    "print(acc_min30)\n",
    "np.mean(common_sense_err2(tru_y,Org_30),axis=0)"
   ]
  }
 ],
 "metadata": {
  "kernelspec": {
   "display_name": "IDL",
   "language": "python",
   "name": "python3"
  },
  "language_info": {
   "codemirror_mode": {
    "name": "ipython",
    "version": 3
   },
   "file_extension": ".py",
   "mimetype": "text/x-python",
   "name": "python",
   "nbconvert_exporter": "python",
   "pygments_lexer": "ipython3",
   "version": "3.12.7"
  }
 },
 "nbformat": 4,
 "nbformat_minor": 2
}
